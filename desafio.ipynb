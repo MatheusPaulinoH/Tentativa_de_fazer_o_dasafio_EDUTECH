{
  "nbformat": 4,
  "nbformat_minor": 0,
  "metadata": {
    "colab": {
      "name": "desafio.ipynb",
      "provenance": [],
      "collapsed_sections": [],
      "authorship_tag": "ABX9TyPrX4ZIA7j4K6J/7KT8Clyu",
      "include_colab_link": true
    },
    "kernelspec": {
      "name": "python3",
      "display_name": "Python 3"
    },
    "language_info": {
      "name": "python"
    }
  },
  "cells": [
    {
      "cell_type": "markdown",
      "metadata": {
        "id": "view-in-github",
        "colab_type": "text"
      },
      "source": [
        "<a href=\"https://colab.research.google.com/github/MatheusPaulinoH/Tentativa_de_fazer_o_dasafio_EDUTECH/blob/main/desafio.ipynb\" target=\"_parent\"><img src=\"https://colab.research.google.com/assets/colab-badge.svg\" alt=\"Open In Colab\"/></a>"
      ]
    },
    {
      "cell_type": "markdown",
      "metadata": {
        "id": "u4lfJa5TXc8l"
      },
      "source": [
        "# Importando Biblioteca / Dados"
      ]
    },
    {
      "cell_type": "code",
      "metadata": {
        "id": "4qkYTGhuOTpx",
        "colab": {
          "base_uri": "https://localhost:8080/"
        },
        "outputId": "e7841d68-f345-4ec0-b93e-3b4fbf8ee4de"
      },
      "source": [
        "import pandas as pd\n",
        "import numpy as np\n",
        "!pip install seaborn==0.9.0\n",
        "import seaborn as sns\n",
        "%matplotlib inline\n",
        "from matplotlib import pyplot as plt"
      ],
      "execution_count": 1,
      "outputs": [
        {
          "output_type": "stream",
          "name": "stdout",
          "text": [
            "Collecting seaborn==0.9.0\n",
            "  Downloading seaborn-0.9.0-py3-none-any.whl (208 kB)\n",
            "\u001b[K     |████████████████████████████████| 208 kB 6.9 MB/s \n",
            "\u001b[?25hRequirement already satisfied: numpy>=1.9.3 in /usr/local/lib/python3.7/dist-packages (from seaborn==0.9.0) (1.19.5)\n",
            "Requirement already satisfied: matplotlib>=1.4.3 in /usr/local/lib/python3.7/dist-packages (from seaborn==0.9.0) (3.2.2)\n",
            "Requirement already satisfied: pandas>=0.15.2 in /usr/local/lib/python3.7/dist-packages (from seaborn==0.9.0) (1.1.5)\n",
            "Requirement already satisfied: scipy>=0.14.0 in /usr/local/lib/python3.7/dist-packages (from seaborn==0.9.0) (1.4.1)\n",
            "Requirement already satisfied: pyparsing!=2.0.4,!=2.1.2,!=2.1.6,>=2.0.1 in /usr/local/lib/python3.7/dist-packages (from matplotlib>=1.4.3->seaborn==0.9.0) (3.0.6)\n",
            "Requirement already satisfied: python-dateutil>=2.1 in /usr/local/lib/python3.7/dist-packages (from matplotlib>=1.4.3->seaborn==0.9.0) (2.8.2)\n",
            "Requirement already satisfied: kiwisolver>=1.0.1 in /usr/local/lib/python3.7/dist-packages (from matplotlib>=1.4.3->seaborn==0.9.0) (1.3.2)\n",
            "Requirement already satisfied: cycler>=0.10 in /usr/local/lib/python3.7/dist-packages (from matplotlib>=1.4.3->seaborn==0.9.0) (0.11.0)\n",
            "Requirement already satisfied: pytz>=2017.2 in /usr/local/lib/python3.7/dist-packages (from pandas>=0.15.2->seaborn==0.9.0) (2018.9)\n",
            "Requirement already satisfied: six>=1.5 in /usr/local/lib/python3.7/dist-packages (from python-dateutil>=2.1->matplotlib>=1.4.3->seaborn==0.9.0) (1.15.0)\n",
            "Installing collected packages: seaborn\n",
            "  Attempting uninstall: seaborn\n",
            "    Found existing installation: seaborn 0.11.2\n",
            "    Uninstalling seaborn-0.11.2:\n",
            "      Successfully uninstalled seaborn-0.11.2\n",
            "Successfully installed seaborn-0.9.0\n"
          ]
        },
        {
          "output_type": "stream",
          "name": "stderr",
          "text": [
            "/usr/local/lib/python3.7/dist-packages/statsmodels/tools/_testing.py:19: FutureWarning: pandas.util.testing is deprecated. Use the functions in the public API at pandas.testing instead.\n",
            "  import pandas.util.testing as tm\n"
          ]
        }
      ]
    },
    {
      "cell_type": "code",
      "metadata": {
        "colab": {
          "base_uri": "https://localhost:8080/",
          "height": 238
        },
        "id": "bz6zI8UjOiux",
        "outputId": "dd86d80b-2e52-4219-e0cb-a2ab251161e6"
      },
      "source": [
        "projeto = pd.read_csv('https://raw.githubusercontent.com/marcelopaludetto/challenge/main/Comparativos%20de%20M%C3%A9tricas%20ao%20longo%20dos%20anos.csv', sep=';')\n",
        "projeto.head()"
      ],
      "execution_count": 2,
      "outputs": [
        {
          "output_type": "execute_result",
          "data": {
            "text/html": [
              "<div>\n",
              "<style scoped>\n",
              "    .dataframe tbody tr th:only-of-type {\n",
              "        vertical-align: middle;\n",
              "    }\n",
              "\n",
              "    .dataframe tbody tr th {\n",
              "        vertical-align: top;\n",
              "    }\n",
              "\n",
              "    .dataframe thead th {\n",
              "        text-align: right;\n",
              "    }\n",
              "</style>\n",
              "<table border=\"1\" class=\"dataframe\">\n",
              "  <thead>\n",
              "    <tr style=\"text-align: right;\">\n",
              "      <th></th>\n",
              "      <th>Ano Censo</th>\n",
              "      <th>Número de Vagas Oferecidas</th>\n",
              "      <th>Número de Tipo de Ingressos</th>\n",
              "      <th>Número de Matrículas</th>\n",
              "      <th>Número de Concluintes</th>\n",
              "      <th>Número de Inscritos</th>\n",
              "      <th>Número de Cursos</th>\n",
              "      <th>Nome Região</th>\n",
              "    </tr>\n",
              "  </thead>\n",
              "  <tbody>\n",
              "    <tr>\n",
              "      <th>0</th>\n",
              "      <td>2017</td>\n",
              "      <td>6075252.0</td>\n",
              "      <td>2135126.0</td>\n",
              "      <td>6529681</td>\n",
              "      <td>947606</td>\n",
              "      <td>14605840.0</td>\n",
              "      <td>33522.0</td>\n",
              "      <td>BRASIL</td>\n",
              "    </tr>\n",
              "    <tr>\n",
              "      <th>1</th>\n",
              "      <td>2017</td>\n",
              "      <td>554885.0</td>\n",
              "      <td>208370.0</td>\n",
              "      <td>607357</td>\n",
              "      <td>89956</td>\n",
              "      <td>1306750.0</td>\n",
              "      <td>3072.0</td>\n",
              "      <td>CENTRO-OESTE</td>\n",
              "    </tr>\n",
              "    <tr>\n",
              "      <th>2</th>\n",
              "      <td>2017</td>\n",
              "      <td>1138928.0</td>\n",
              "      <td>441493.0</td>\n",
              "      <td>1447248</td>\n",
              "      <td>188730</td>\n",
              "      <td>3804497.0</td>\n",
              "      <td>6715.0</td>\n",
              "      <td>NORDESTE</td>\n",
              "    </tr>\n",
              "    <tr>\n",
              "      <th>3</th>\n",
              "      <td>2017</td>\n",
              "      <td>383771.0</td>\n",
              "      <td>143622.0</td>\n",
              "      <td>473716</td>\n",
              "      <td>64851</td>\n",
              "      <td>1367659.0</td>\n",
              "      <td>2513.0</td>\n",
              "      <td>NORTE</td>\n",
              "    </tr>\n",
              "    <tr>\n",
              "      <th>4</th>\n",
              "      <td>2017</td>\n",
              "      <td>3086636.0</td>\n",
              "      <td>1026159.0</td>\n",
              "      <td>3003075</td>\n",
              "      <td>458824</td>\n",
              "      <td>6516557.0</td>\n",
              "      <td>14861.0</td>\n",
              "      <td>SUDESTE</td>\n",
              "    </tr>\n",
              "  </tbody>\n",
              "</table>\n",
              "</div>"
            ],
            "text/plain": [
              "   Ano Censo  Número de Vagas Oferecidas  ...  Número de Cursos   Nome Região\n",
              "0       2017                   6075252.0  ...           33522.0        BRASIL\n",
              "1       2017                    554885.0  ...            3072.0  CENTRO-OESTE\n",
              "2       2017                   1138928.0  ...            6715.0      NORDESTE\n",
              "3       2017                    383771.0  ...            2513.0         NORTE\n",
              "4       2017                   3086636.0  ...           14861.0       SUDESTE\n",
              "\n",
              "[5 rows x 8 columns]"
            ]
          },
          "metadata": {},
          "execution_count": 2
        }
      ]
    },
    {
      "cell_type": "markdown",
      "metadata": {
        "id": "JzlbgU8HWu_4"
      },
      "source": [
        "# Renomeando as Colunas "
      ]
    },
    {
      "cell_type": "code",
      "metadata": {
        "colab": {
          "base_uri": "https://localhost:8080/"
        },
        "id": "rLk4Hf8MSSuo",
        "outputId": "d91703b5-dbc5-479f-8b3b-dcb17ba416d4"
      },
      "source": [
        "projeto.columns\n"
      ],
      "execution_count": 3,
      "outputs": [
        {
          "output_type": "execute_result",
          "data": {
            "text/plain": [
              "Index(['Ano Censo', 'Número de Vagas Oferecidas',\n",
              "       'Número de Tipo de Ingressos', 'Número de Matrículas',\n",
              "       'Número de Concluintes', 'Número de Inscritos', 'Número de Cursos',\n",
              "       'Nome Região'],\n",
              "      dtype='object')"
            ]
          },
          "metadata": {},
          "execution_count": 3
        }
      ]
    },
    {
      "cell_type": "code",
      "metadata": {
        "id": "t4rdRNgKS6Im"
      },
      "source": [
        "renomear = {\n",
        "    'Ano Censo': 'Ano_Censo',\n",
        "     'Número de Vagas Oferecidas': 'Numero_de_vagas_oferecidas', \n",
        "     'Número de Tipo de Ingressos': 'Numero_de_tipo_de_ingressos', \n",
        "     'Número de Matrículas': 'Numero_de_matriculas', \n",
        "     'Número de Concluintes': 'Numero_de_concluentes',\n",
        "     'Número de Inscritos': 'Numero_de_inscritos',\n",
        "     'Número de Cursos': 'Numero_de_cursos',\n",
        "     'Nome Região': 'Nome_Regiao'\n",
        "}"
      ],
      "execution_count": 4,
      "outputs": []
    },
    {
      "cell_type": "code",
      "metadata": {
        "id": "QhNI6APuUZKX"
      },
      "source": [
        "projeto = projeto.rename(columns=renomear)\n",
        "\n"
      ],
      "execution_count": 5,
      "outputs": []
    },
    {
      "cell_type": "markdown",
      "metadata": {
        "id": "JgCkvPnGXEfl"
      },
      "source": [
        "# Tratando dados Not A Namber"
      ]
    },
    {
      "cell_type": "code",
      "metadata": {
        "colab": {
          "base_uri": "https://localhost:8080/",
          "height": 100
        },
        "id": "nBXzdzLeXDM4",
        "outputId": "01a8ee86-dfa1-467c-c30c-e9813eb4610c"
      },
      "source": [
        "projeto.head(1)"
      ],
      "execution_count": 6,
      "outputs": [
        {
          "output_type": "execute_result",
          "data": {
            "text/html": [
              "<div>\n",
              "<style scoped>\n",
              "    .dataframe tbody tr th:only-of-type {\n",
              "        vertical-align: middle;\n",
              "    }\n",
              "\n",
              "    .dataframe tbody tr th {\n",
              "        vertical-align: top;\n",
              "    }\n",
              "\n",
              "    .dataframe thead th {\n",
              "        text-align: right;\n",
              "    }\n",
              "</style>\n",
              "<table border=\"1\" class=\"dataframe\">\n",
              "  <thead>\n",
              "    <tr style=\"text-align: right;\">\n",
              "      <th></th>\n",
              "      <th>Ano_Censo</th>\n",
              "      <th>Numero_de_vagas_oferecidas</th>\n",
              "      <th>Numero_de_tipo_de_ingressos</th>\n",
              "      <th>Numero_de_matriculas</th>\n",
              "      <th>Numero_de_concluentes</th>\n",
              "      <th>Numero_de_inscritos</th>\n",
              "      <th>Numero_de_cursos</th>\n",
              "      <th>Nome_Regiao</th>\n",
              "    </tr>\n",
              "  </thead>\n",
              "  <tbody>\n",
              "    <tr>\n",
              "      <th>0</th>\n",
              "      <td>2017</td>\n",
              "      <td>6075252.0</td>\n",
              "      <td>2135126.0</td>\n",
              "      <td>6529681</td>\n",
              "      <td>947606</td>\n",
              "      <td>14605840.0</td>\n",
              "      <td>33522.0</td>\n",
              "      <td>BRASIL</td>\n",
              "    </tr>\n",
              "  </tbody>\n",
              "</table>\n",
              "</div>"
            ],
            "text/plain": [
              "   Ano_Censo  Numero_de_vagas_oferecidas  ...  Numero_de_cursos  Nome_Regiao\n",
              "0       2017                   6075252.0  ...           33522.0       BRASIL\n",
              "\n",
              "[1 rows x 8 columns]"
            ]
          },
          "metadata": {},
          "execution_count": 6
        }
      ]
    },
    {
      "cell_type": "code",
      "metadata": {
        "colab": {
          "base_uri": "https://localhost:8080/",
          "height": 241
        },
        "id": "96Ju0ElWU8-z",
        "outputId": "0fe77d17-fd03-4c4e-b3fd-aa44bb879e90"
      },
      "source": [
        "projeto.fillna(0, inplace= False).head()"
      ],
      "execution_count": 7,
      "outputs": [
        {
          "output_type": "execute_result",
          "data": {
            "text/html": [
              "<div>\n",
              "<style scoped>\n",
              "    .dataframe tbody tr th:only-of-type {\n",
              "        vertical-align: middle;\n",
              "    }\n",
              "\n",
              "    .dataframe tbody tr th {\n",
              "        vertical-align: top;\n",
              "    }\n",
              "\n",
              "    .dataframe thead th {\n",
              "        text-align: right;\n",
              "    }\n",
              "</style>\n",
              "<table border=\"1\" class=\"dataframe\">\n",
              "  <thead>\n",
              "    <tr style=\"text-align: right;\">\n",
              "      <th></th>\n",
              "      <th>Ano_Censo</th>\n",
              "      <th>Numero_de_vagas_oferecidas</th>\n",
              "      <th>Numero_de_tipo_de_ingressos</th>\n",
              "      <th>Numero_de_matriculas</th>\n",
              "      <th>Numero_de_concluentes</th>\n",
              "      <th>Numero_de_inscritos</th>\n",
              "      <th>Numero_de_cursos</th>\n",
              "      <th>Nome_Regiao</th>\n",
              "    </tr>\n",
              "  </thead>\n",
              "  <tbody>\n",
              "    <tr>\n",
              "      <th>0</th>\n",
              "      <td>2017</td>\n",
              "      <td>6075252.0</td>\n",
              "      <td>2135126.0</td>\n",
              "      <td>6529681</td>\n",
              "      <td>947606</td>\n",
              "      <td>14605840.0</td>\n",
              "      <td>33522.0</td>\n",
              "      <td>BRASIL</td>\n",
              "    </tr>\n",
              "    <tr>\n",
              "      <th>1</th>\n",
              "      <td>2017</td>\n",
              "      <td>554885.0</td>\n",
              "      <td>208370.0</td>\n",
              "      <td>607357</td>\n",
              "      <td>89956</td>\n",
              "      <td>1306750.0</td>\n",
              "      <td>3072.0</td>\n",
              "      <td>CENTRO-OESTE</td>\n",
              "    </tr>\n",
              "    <tr>\n",
              "      <th>2</th>\n",
              "      <td>2017</td>\n",
              "      <td>1138928.0</td>\n",
              "      <td>441493.0</td>\n",
              "      <td>1447248</td>\n",
              "      <td>188730</td>\n",
              "      <td>3804497.0</td>\n",
              "      <td>6715.0</td>\n",
              "      <td>NORDESTE</td>\n",
              "    </tr>\n",
              "    <tr>\n",
              "      <th>3</th>\n",
              "      <td>2017</td>\n",
              "      <td>383771.0</td>\n",
              "      <td>143622.0</td>\n",
              "      <td>473716</td>\n",
              "      <td>64851</td>\n",
              "      <td>1367659.0</td>\n",
              "      <td>2513.0</td>\n",
              "      <td>NORTE</td>\n",
              "    </tr>\n",
              "    <tr>\n",
              "      <th>4</th>\n",
              "      <td>2017</td>\n",
              "      <td>3086636.0</td>\n",
              "      <td>1026159.0</td>\n",
              "      <td>3003075</td>\n",
              "      <td>458824</td>\n",
              "      <td>6516557.0</td>\n",
              "      <td>14861.0</td>\n",
              "      <td>SUDESTE</td>\n",
              "    </tr>\n",
              "  </tbody>\n",
              "</table>\n",
              "</div>"
            ],
            "text/plain": [
              "   Ano_Censo  Numero_de_vagas_oferecidas  ...  Numero_de_cursos   Nome_Regiao\n",
              "0       2017                   6075252.0  ...           33522.0        BRASIL\n",
              "1       2017                    554885.0  ...            3072.0  CENTRO-OESTE\n",
              "2       2017                   1138928.0  ...            6715.0      NORDESTE\n",
              "3       2017                    383771.0  ...            2513.0         NORTE\n",
              "4       2017                   3086636.0  ...           14861.0       SUDESTE\n",
              "\n",
              "[5 rows x 8 columns]"
            ]
          },
          "metadata": {},
          "execution_count": 7
        }
      ]
    },
    {
      "cell_type": "code",
      "metadata": {
        "id": "SjWkqWbeWWd3"
      },
      "source": [
        ""
      ],
      "execution_count": 7,
      "outputs": []
    },
    {
      "cell_type": "markdown",
      "metadata": {
        "id": "rkxgSbtQEPlI"
      },
      "source": [
        "#Analisar a taxa de curva ano a ano das informações para todas as regiões do Brasil"
      ]
    },
    {
      "cell_type": "code",
      "metadata": {
        "id": "iw1rGw0JZY3w",
        "colab": {
          "base_uri": "https://localhost:8080/"
        },
        "outputId": "70d0ccfa-20c5-47d9-d799-a59a9970d59b"
      },
      "source": [
        "projeto.Numero_de_concluentes.describe()"
      ],
      "execution_count": 10,
      "outputs": [
        {
          "output_type": "execute_result",
          "data": {
            "text/plain": [
              "count        57.000000\n",
              "mean     276049.438596\n",
              "std      293054.241784\n",
              "min           0.000000\n",
              "25%       77539.000000\n",
              "50%      136337.000000\n",
              "75%      447369.000000\n",
              "max      947606.000000\n",
              "Name: Numero_de_concluentes, dtype: float64"
            ]
          },
          "metadata": {},
          "execution_count": 10
        }
      ]
    },
    {
      "cell_type": "code",
      "metadata": {
        "colab": {
          "base_uri": "https://localhost:8080/",
          "height": 203
        },
        "id": "y4bs8gWhCTkX",
        "outputId": "253cadf5-178a-46bd-c18a-eb7d89780195"
      },
      "source": [
        "sns.relplot(x='Ano_Censo', y='Numero_de_matriculas', col='Nome_Regiao', kind='line', data=projeto)"
      ],
      "execution_count": 17,
      "outputs": [
        {
          "output_type": "execute_result",
          "data": {
            "text/plain": [
              "<seaborn.axisgrid.FacetGrid at 0x7fe28c0ef810>"
            ]
          },
          "metadata": {},
          "execution_count": 17
        },
        {
          "output_type": "display_data",
          "data": {
            "image/png": "[encoded data removed]",
            "text/plain": [
              "<Figure size 2520x360 with 7 Axes>"
            ]
          },
          "metadata": {
            "needs_background": "light"
          }
        }
      ]
    },
    {
      "cell_type": "markdown",
      "metadata": {
        "id": "pFPYzjL9KC9_"
      },
      "source": [
        "**Nenhum das resgioes teve crecimento extraordinario**"
      ]
    },
    {
      "cell_type": "markdown",
      "metadata": {
        "id": "dDEPT1uZGD05"
      },
      "source": [
        "# Analisar o número de vagas oferecidas por região ano a ano\n"
      ]
    },
    {
      "cell_type": "code",
      "metadata": {
        "colab": {
          "base_uri": "https://localhost:8080/",
          "height": 406
        },
        "id": "0gqDfb-8C5cT",
        "outputId": "bd17bf68-fe6c-4839-893e-06ca7c3e9a83"
      },
      "source": [
        "sns.relplot(x='Numero_de_matriculas', y='Numero_de_vagas_oferecidas', col='Ano_Censo', data=projeto)\n"
      ],
      "execution_count": 25,
      "outputs": [
        {
          "output_type": "execute_result",
          "data": {
            "text/plain": [
              "<seaborn.axisgrid.FacetGrid at 0x7fe28b31e250>"
            ]
          },
          "metadata": {},
          "execution_count": 25
        },
        {
          "output_type": "display_data",
          "data": {
            "image/png": "[encoded data removed]",
            "text/plain": [
              "<Figure size 3240x360 with 9 Axes>"
            ]
          },
          "metadata": {
            "needs_background": "light"
          }
        }
      ]
    },
    {
      "cell_type": "markdown",
      "metadata": {
        "id": "2l_aoIBVKXfl"
      },
      "source": [
        "**teve muito mais matriculas do que vagas oferecidas**"
      ]
    },
    {
      "cell_type": "markdown",
      "metadata": {
        "id": "lgsHT8mOHOCA"
      },
      "source": [
        "#  Analisar o número de concluintes em cada região e apontar qual é a região com maior dificuldade;\n",
        "\n"
      ]
    },
    {
      "cell_type": "code",
      "metadata": {
        "colab": {
          "base_uri": "https://localhost:8080/",
          "height": 406
        },
        "id": "NXOxGeKXEiXg",
        "outputId": "2011258f-1e27-45e2-cd10-bfd523005f3a"
      },
      "source": [
        "sns.relplot(x='Ano_Censo', y='Numero_de_concluentes', col='Nome_Regiao', data=projeto)\n"
      ],
      "execution_count": 27,
      "outputs": [
        {
          "output_type": "execute_result",
          "data": {
            "text/plain": [
              "<seaborn.axisgrid.FacetGrid at 0x7fe28a9932d0>"
            ]
          },
          "metadata": {},
          "execution_count": 27
        },
        {
          "output_type": "display_data",
          "data": {
            "image/png": "[encoded data removed]",
            "text/plain": [
              "<Figure size 2520x360 with 7 Axes>"
            ]
          },
          "metadata": {
            "needs_background": "light"
          }
        }
      ]
    },
    {
      "cell_type": "markdown",
      "metadata": {
        "id": "8qYYSUeyKwOg"
      },
      "source": [
        "**a regiao com mais difilcudade foi a do norte**"
      ]
    },
    {
      "cell_type": "code",
      "metadata": {
        "id": "PmIoCtndIRdd"
      },
      "source": [
        ""
      ],
      "execution_count": null,
      "outputs": []
    }
  ]
}